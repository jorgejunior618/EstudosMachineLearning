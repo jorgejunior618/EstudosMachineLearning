{
  "nbformat": 4,
  "nbformat_minor": 0,
  "metadata": {
    "colab": {
      "provenance": [],
      "authorship_tag": "ABX9TyMQsH3O8qSt/ZmpCp8xnKsr",
      "include_colab_link": true
    },
    "kernelspec": {
      "name": "python3",
      "display_name": "Python 3"
    },
    "language_info": {
      "name": "python"
    }
  },
  "cells": [
    {
      "cell_type": "markdown",
      "metadata": {
        "id": "view-in-github",
        "colab_type": "text"
      },
      "source": [
        "<a href=\"https://colab.research.google.com/github/jorgejunior618/EstudosMachineLearning/blob/main/01_Machine_Learning_Obten%C3%A7%C3%A3o_de_dados_de_fontes_externas.ipynb\" target=\"_parent\"><img src=\"https://colab.research.google.com/assets/colab-badge.svg\" alt=\"Open In Colab\"/></a>"
      ]
    },
    {
      "cell_type": "code",
      "execution_count": null,
      "metadata": {
        "id": "OhpDTZMECngt"
      },
      "outputs": [],
      "source": [
        "import pandas as pd\n",
        "from sklearn.svm import LinearSVC\n",
        "from sklearn.metrics import accuracy_score\n",
        "\n",
        "uri = \"https://gist.githubusercontent.com/guilhermesilveira/2d2efa37d66b6c84a722ea627a897ced/raw/10968b997d885cbded1c92938c7a9912ba41c615/tracking.csv\"\n",
        "\n",
        "dados = pd.read_csv(uri)\n",
        "mapeamento = {\n",
        "    'home': 'principal',\n",
        "    'how_it_works': 'como_funciona',\n",
        "    'contact': 'contato',\n",
        "    'bought': 'comprou'\n",
        "}\n",
        "\n",
        "dados = dados.rename(columns=mapeamento)\n",
        "\n",
        "columns_x = dados[['principal','como_funciona', 'contato']]\n",
        "columns_y = dados['comprou']"
      ]
    },
    {
      "cell_type": "code",
      "source": [
        "treino_x = columns_x[:75]\n",
        "treino_y = columns_y[:75]\n",
        "\n",
        "teste_x = columns_x[75:]\n",
        "teste_y = columns_y[75:]\n",
        "\n",
        "print(f\"treinando com {len(treino_x)} elementos\")\n",
        "print(f\"testando {len(teste_x)} elementos\")"
      ],
      "metadata": {
        "colab": {
          "base_uri": "https://localhost:8080/"
        },
        "id": "W6GFwduBCpY4",
        "outputId": "262df52a-9d7b-478c-b863-72d2ff124e04"
      },
      "execution_count": null,
      "outputs": [
        {
          "output_type": "stream",
          "name": "stdout",
          "text": [
            "treinando com 75 elementos\n",
            "testando 24 elementos\n"
          ]
        }
      ]
    },
    {
      "cell_type": "code",
      "source": [
        "modelo = LinearSVC()\n",
        "modelo.fit(treino_x, treino_y)\n",
        "\n",
        "previsoes = modelo.predict(teste_x)\n",
        "\n",
        "taxa_acerto = accuracy_score(teste_y, previsoes)\n",
        "\n",
        "print(f\"A Acuracia foi de {'{:.2f}'.format(taxa_acerto * 100)}%\")"
      ],
      "metadata": {
        "colab": {
          "base_uri": "https://localhost:8080/"
        },
        "id": "pVbMYg1DC3Q4",
        "outputId": "76a3723c-78ad-4fd9-a4ad-febc4702fa1b"
      },
      "execution_count": null,
      "outputs": [
        {
          "output_type": "stream",
          "name": "stdout",
          "text": [
            "A Acuracia foi de 95.83%\n"
          ]
        }
      ]
    },
    {
      "cell_type": "markdown",
      "source": [
        "# Usando a Biblioteca SKLearn para dividir treino e teste"
      ],
      "metadata": {
        "id": "vnUo8Z13FwDM"
      }
    },
    {
      "cell_type": "code",
      "source": [
        "# Separando o os dados para treino e teste do modelo utilizando a biblioteca sklearn\n",
        "from sklearn.model_selection import train_test_split\n",
        "\n",
        "SEED = 20\n",
        "treino_x,teste_x,treino_y,teste_y = train_test_split(\n",
        "  columns_x,\n",
        "  columns_y,\n",
        "  random_state=SEED, # Garante que em outras execuções o conjunto de treino/teste se manterão os mesmos\n",
        "  test_size=.25, # Define o tamanho do conjunto de dados para teste\n",
        "  stratify=columns_y # Garante uma proporção adequada entre a relação de casos Positivos/Negativos entre o conjunto de treino e de testes\n",
        ")\n",
        "\n",
        "print(f\"treinando com {len(treino_x)} elementos e testando {len(teste_x)} elementos\\n\")\n",
        "\n",
        "modelo = LinearSVC()\n",
        "modelo.fit(treino_x, treino_y)\n",
        "\n",
        "previsoes = modelo.predict(teste_x)\n",
        "\n",
        "taxa_acerto = accuracy_score(teste_y, previsoes)\n",
        "\n",
        "print(f\"A Acuracia foi de {'{:.2f}'.format(taxa_acerto * 100)}%\")"
      ],
      "metadata": {
        "colab": {
          "base_uri": "https://localhost:8080/"
        },
        "id": "2wEJVk5UE9lc",
        "outputId": "9be5aa09-9a6b-49ef-b1d3-faa7b45a11ca"
      },
      "execution_count": null,
      "outputs": [
        {
          "output_type": "stream",
          "name": "stdout",
          "text": [
            "treinando com 74 elementos e testando 25 elementos\n",
            "\n",
            "A Acuracia foi de 96.00%\n"
          ]
        }
      ]
    }
  ]
}