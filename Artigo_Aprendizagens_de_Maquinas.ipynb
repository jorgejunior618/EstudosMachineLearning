{
  "nbformat": 4,
  "nbformat_minor": 0,
  "metadata": {
    "colab": {
      "provenance": [],
      "authorship_tag": "ABX9TyOyXT42Hc+tcK8xo3Id6AfD",
      "include_colab_link": true
    },
    "kernelspec": {
      "name": "python3",
      "display_name": "Python 3"
    },
    "language_info": {
      "name": "python"
    }
  },
  "cells": [
    {
      "cell_type": "markdown",
      "metadata": {
        "id": "view-in-github",
        "colab_type": "text"
      },
      "source": [
        "<a href=\"https://colab.research.google.com/github/jorgejunior618/EstudosMachineLearning/blob/main/Artigo_Aprendizagens_de_Maquinas.ipynb\" target=\"_parent\"><img src=\"https://colab.research.google.com/assets/colab-badge.svg\" alt=\"Open In Colab\"/></a>"
      ]
    },
    {
      "cell_type": "markdown",
      "source": [
        "*Disponivel em : https://www.alura.com.br/artigos/quais-sao-tipos-aprendizagem-ia-inteligencia-artificial*"
      ],
      "metadata": {
        "id": "Jqyvn2ukcKuW"
      }
    },
    {
      "cell_type": "markdown",
      "source": [
        "#  Tipos de Aprendizagem de Máquina\n",
        "\n",
        "Ao acompanhar as inovações tecnológicas, é impressionante perceber como as Inteligências Artificiais (IAs) estão impactando significativamente nosso dia a dia. Elas têm a capacidade de aprender e executar tarefas complexas de uma maneira que nunca imaginamos ser possível. Por meio dos diferentes tipos de aprendizagem na IA, esses sistemas computacionais adquirem conhecimento a partir de dados e experiências, permitindo que tomem decisões inteligentes e auxiliem em várias áreas da nossa vida.\n",
        "\n",
        "Tente imaginar um dia poder contar com um diagnóstico médico mais eficiente e rápido, por conta da capacidade das IAs em analisar grandes quantidades de dados e identificar padrões sutis que podem escapar ao olhar humano. Além disso, o reconhecimento de padrões possibilita melhorias em diversos serviços, como, por exemplo, a tradução automática, facilitando a comunicação entre pessoas de diferentes culturas e idiomas. Os assistentes virtuais, com seu aprendizado por reforço, aprendem a entender nossas preferências e necessidades, tornando-se parceiros confiáveis em nossas jornadas diárias."
      ],
      "metadata": {
        "id": "DJ1-eYFhbllB"
      }
    },
    {
      "cell_type": "markdown",
      "source": [
        "## O que é aprendizado de máquina?\n",
        "\n",
        "O aprendizado de máquina, uma área da inteligência artificial, permite que computadores aprendam e melhorem seu desempenho através de um conjunto de dados. Um exemplo disso é o reconhecimento facial, em que o sistema de aprendizado de máquina é capaz de identificar características únicas em cada rosto e associá-las a uma pessoa específica, graças ao treinamento com uma grande quantidade de imagens faciais. Isso permite que o celular reconheça o rosto do usuário e conceda acesso ao dispositivo de forma segura e conveniente.\n",
        "\n",
        "Este recurso que está no nosso dia a dia é mais um dos avanços possibilitados pelo aprendizado de máquina. Esse tipo de aprendizado é conhecido como ***aprendizado supervisionado***, onde os dados utilizados no treinamento são rotulados, ou seja, as imagens de rostos estão acompanhadas de suas respectivas identificações. No entanto, existem outros tipos de aprendizado de máquina e vamos entender alguns deles."
      ],
      "metadata": {
        "id": "CUOW5UUNcVix"
      }
    },
    {
      "cell_type": "markdown",
      "source": [
        "### Aprendizado supervisionado\n",
        "\n",
        "Nesse tipo de aprendizado, os computadores são treinados usando exemplos de entrada e saída correspondente. Por exemplo, imagine que estamos construindo um modelo para classificar e-mails entre e-mails de spam e e-mails legítimos. Para isso, utilizamos diversos e-mails que contêm a resposta à pergunta \"É spam?\". Através das características dos e-mails, como palavras-chave, comprimento do texto e presença de links, o algoritmo aprende a rotular o conteúdo como spam. Esse modelo é conhecido como modelo de classificação. Ele identifica padrões associados a cada categoria, permitindo que, posteriormente, o modelo classifique novos e-mails com base no treinamento recebido. Dessa forma, é possível filtrar e organizar a caixa de entrada de maneira mais eficiente."
      ],
      "metadata": {
        "id": "4JMa12Vfc1sj"
      }
    },
    {
      "cell_type": "markdown",
      "source": [
        "### Aprendizado não supervisionado\n",
        "Nesse tipo de aprendizado, os computadores exploram dados não rotulados para descobrir padrões e estruturas ocultas. Uma técnica comum utilizada nesse tipo de aprendizado é o clustering, que é o processo de agrupar e categorizar grupos de dados. Em um contexto de e-commerce, por exemplo, podemos identificar padrões e grupos de compras semelhantes. Você pode descobrir grupos de clientes que tendem a comprar produtos de moda, outros grupos que preferem produtos eletrônicos, e assim por diante.\n",
        "\n",
        "Essa análise de clustering permite entender melhor os perfis de compra dos clientes e identificar segmentos de clientes com interesses e preferências semelhantes. Com base nisso, estratégias de marketing podem ser desenvolvidas de forma direcionada para cada grupo, como o envio de ofertas personalizadas e recomendações de produtos relacionados aos interesses específicos de cada segmento."
      ],
      "metadata": {
        "id": "yt2XYSEHdA0Z"
      }
    },
    {
      "cell_type": "markdown",
      "source": [
        "### Semi-supervisionado\n",
        "Em sistemas que utilizam técnicas de aprendizado semi-supervisionado, temos uma situação onde uma parte dos dados é rotulada e outra parte não é rotulada. Imagine uma plataforma como a Netflix, por exemplo, onde os dados rotulados seriam as classificações dos usuários em relação aos filmes e séries assistidos, enquanto os dados não rotulados seriam os filmes e séries não avaliados por eles.\n",
        "\n",
        "Para aproveitar ao máximo essas informações, podemos usar um algoritmo de aprendizado supervisionado, como a regressão logística ou a árvore de decisão. Esses algoritmos analisam os dados rotulados, identificam padrões e relacionamentos entre as preferências dos usuários e, em seguida, aplicam esses padrões aos dados não rotulados. Assim, o sistema pode fazer previsões e recomendações mais precisas e personalizadas, mesmo para filmes e séries não avaliados anteriormente.\n",
        "\n",
        "Por isso, no aprendizado semi-supervisionado, aproveitamos tanto os dados rotulados quanto os não rotulados, quando utilizamos algoritmos de dois tipos de aprendizado em conjunto. Isso pode servir para aprimorar o sistema de recomendação, fornecendo sugestões mais personalizadas e relevantes aos usuários da Netflix."
      ],
      "metadata": {
        "id": "ofvrkqhkdCbp"
      }
    },
    {
      "cell_type": "markdown",
      "source": [
        "### Aprendizado por reforço\n",
        "Esse tipo de aprendizado é o que mais se diferencia dos outros que falamos. No aprendizado por reforço, um agente é treinado para tomar sequências de decisões, recebendo recompensas ou penalidades em troca. O objetivo é que o agente aprenda a tomar as melhores ações para maximizar as recompensas ao longo do tempo. Esse tipo de aprendizado é amplamente aplicado na robótica e em jogos.\n",
        "\n",
        "Um exemplo famoso de aplicação desse aprendizado é o caso do AlphaGo, um programa de inteligência artificial que aprendeu a jogar o jogo de tabuleiro Go. O AlphaGo analisou milhões de jogos disponíveis para descobrir as melhores estratégias de vitória. Em seguida, jogou milhões de partidas contra si mesmo, aprimorando suas habilidades e aprendendo as jogadas que levavam à vitória. Em 2017, o AlphaGo se tornou famoso ao derrotar o campeão mundial de Go, Ke Jie. Esse exemplo demonstra o poder do aprendizado por reforço em desenvolver habilidades avançadas e alcançar resultados impressionantes em diferentes áreas."
      ],
      "metadata": {
        "id": "0mCe9tNRdEzy"
      }
    }
  ]
}