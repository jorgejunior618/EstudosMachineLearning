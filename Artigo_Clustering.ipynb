{
  "nbformat": 4,
  "nbformat_minor": 0,
  "metadata": {
    "colab": {
      "provenance": [],
      "authorship_tag": "ABX9TyPrSzKjLbLc29KNeN9YTCmX",
      "include_colab_link": true
    },
    "kernelspec": {
      "name": "python3",
      "display_name": "Python 3"
    },
    "language_info": {
      "name": "python"
    }
  },
  "cells": [
    {
      "cell_type": "markdown",
      "metadata": {
        "id": "view-in-github",
        "colab_type": "text"
      },
      "source": [
        "<a href=\"https://colab.research.google.com/github/jorgejunior618/EstudosMachineLearning/blob/main/Artigo_Clustering.ipynb\" target=\"_parent\"><img src=\"https://colab.research.google.com/assets/colab-badge.svg\" alt=\"Open In Colab\"/></a>"
      ]
    },
    {
      "cell_type": "markdown",
      "source": [
        "*Disponível em: https://developers.google.com/machine-learning/clustering/overview?hl=pt-br*"
      ],
      "metadata": {
        "id": "D1WYR-SBgxE_"
      }
    },
    {
      "cell_type": "markdown",
      "source": [
        "# Conceitos sobre Clustering em Aprendizado de Máquina\n",
        "\n",
        "Quando você está tentando aprender sobre alguma coisa, como música, uma abordagem pode ser procura grupos ou coleções significativas. É possível organizar as músicas por gênero, enquanto seu amigo pode organizar as músicas por décadas. A escolha do agrupamento de itens ajuda a entender mais sobre eles como músicas individuais. Você pode descobrir que tem uma afinidade profunda com o punk rock e dividir o gênero em diferentes abordagens ou músicas de diferentes locais. Por outro lado, seu amigo pode ver música dos anos 1980 e ser capaz de entender como a música entre gêneros naquela época foi influenciada pelo clima sociopolítico. Em ambos os casos, você e seu amigo aprenderam algo interessante sobre música, mesmo que você tenha usado abordagens diferentes.\n",
        "\n",
        "Em machine learning também, nós geralmente agrupamos exemplos como a primeira etapa para entender um assunto (conjunto de dados) em um sistema de machine learning. O agrupamento de exemplos sem rótulos é chamado de clustering.\n",
        "\n",
        "Antes de agrupar exemplos semelhantes, é necessário encontrar exemplos semelhantes. Você pode medir a semelhança entre os exemplos ao combinar os dados de recursos deles em uma métrica, chamada medida de semelhança. Quando cada exemplo é definido por um ou dois atributos, fica fácil medir a semelhança. Por exemplo, é possível encontrar livros parecidos pelos autores. Com o aumento do número de atributos, criar uma medida de semelhança se torna mais complexo. Veremos como criar uma medida de semelhança em diferentes cenários."
      ],
      "metadata": {
        "id": "ELcMgN2TgmNY"
      }
    },
    {
      "cell_type": "markdown",
      "source": [
        "## Usos do clustering\n",
        "\n",
        "O clustering tem uma infinidade de usos em diversos setores. Algumas aplicações comuns para clustering incluem:\n",
        "\n",
        "- segmentação de mercado\n",
        "- análise de rede social\n",
        "- agrupamento de resultados da pesquisa\n",
        "- imagem médica\n",
        "- segmentação de imagens\n",
        "- Detecção de anomalias\n",
        "\n",
        "Após o clustering, cada cluster recebe um número chamado de ID do cluster. Agora é possível condensar todo o conjunto de recursos de um exemplo no ID do cluster. A representação de um exemplo complexo por um ID de cluster simples torna o clustering eficiente. Ampliar a ideia, o clustering de dados pode simplificar grandes conjuntos de dados.\n",
        "\n",
        "Por exemplo, você pode agrupar itens por recursos diferentes, como demonstrado nos exemplos a seguir:\n",
        "\n",
        "Exemplos:\n",
        "- Agrupar estrelas por brilho.\n",
        "- Agrupar organismos por informações genéticas em uma taxonomia.\n",
        "- Agrupe documentos por tópico.\n",
        "\n",
        "Os sistemas de machine learning podem usar IDs de cluster para simplificar o processamento de grandes conjuntos de dados. Portanto, a saída do clustering serve como dados de recursos para sistemas downstream de ML.\n",
        "\n",
        "No Google, o clustering é usado para generalização, compactação de dados e preservação de privacidade em produtos como vídeos do YouTube, apps do Google Play e músicas."
      ],
      "metadata": {
        "id": "lUbhD_H7hdEo"
      }
    },
    {
      "cell_type": "markdown",
      "source": [
        "### Generalização\n",
        "\n",
        "Quando alguns exemplos em um cluster têm dados de recurso ausentes, é possível inferir os dados ausentes de outros exemplos no cluster.\n",
        "\n",
        "**Exemplo**\n",
        "- O conteúdo menos conhecido pode ser agrupado com outros mais acessados para melhorar as recomendações.\n",
        "\n",
        "### Compactação de dados\n",
        "\n",
        "Como discutido, os dados de recursos de todos os exemplos em um cluster podem ser substituídos pelo ID do cluster relevante. Essa substituição simplifica os dados do recurso e economiza armazenamento. Esses benefícios tornam-se significativos quando escalonados para grandes conjuntos de dados. Além disso, os sistemas de machine learning podem usar o ID do cluster como entrada em vez de todo o conjunto de dados de atributos. Reduzir a complexidade dos dados de entrada facilita o treinamento do modelo de ML e faz com que ele seja mais rápido.\n",
        "\n",
        "**Exemplo**\n",
        "\n",
        "Os dados dos recursos de um único vídeo do YouTube podem incluir:\n",
        "- dados dos espectadores sobre localização, hora e informações demográficas\n",
        "- Dados de comentários com carimbos de data/hora, texto e IDs de usuário\n",
        "tags de vídeo\n",
        "- O clustering de vídeos do YouTube permite substituir esse conjunto de recursos por um único ID de cluster, compactando seus dados."
      ],
      "metadata": {
        "id": "j1GOlMsuigfa"
      }
    }
  ]
}