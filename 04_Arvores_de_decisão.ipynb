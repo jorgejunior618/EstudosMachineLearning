{
  "nbformat": 4,
  "nbformat_minor": 0,
  "metadata": {
    "colab": {
      "provenance": [],
      "authorship_tag": "ABX9TyOY4TUCY/he5zH/qpJpc5rL",
      "include_colab_link": true
    },
    "kernelspec": {
      "name": "python3",
      "display_name": "Python 3"
    },
    "language_info": {
      "name": "python"
    }
  },
  "cells": [
    {
      "cell_type": "markdown",
      "metadata": {
        "id": "view-in-github",
        "colab_type": "text"
      },
      "source": [
        "<a href=\"https://colab.research.google.com/github/jorgejunior618/EstudosMachineLearning/blob/main/04_Arvores_de_decis%C3%A3o.ipynb\" target=\"_parent\"><img src=\"https://colab.research.google.com/assets/colab-badge.svg\" alt=\"Open In Colab\"/></a>"
      ]
    },
    {
      "cell_type": "code",
      "execution_count": null,
      "metadata": {
        "id": "m05XQrI6ttAH"
      },
      "outputs": [],
      "source": [
        "from sklearn.model_selection import train_test_split\n",
        "from sklearn.metrics import accuracy_score\n",
        "from sklearn.svm import SVC\n",
        "from sklearn.tree import DecisionTreeClassifier, export_graphviz\n",
        "from sklearn.preprocessing import StandardScaler\n",
        "from sklearn.dummy import DummyClassifier\n",
        "from datetime import datetime\n",
        "import pandas as pd\n",
        "import numpy as np\n",
        "import graphviz\n",
        "\n",
        "SEED = 20"
      ]
    },
    {
      "cell_type": "code",
      "source": [
        "uri = 'https://gist.githubusercontent.com/guilhermesilveira/4d1d4a16ccbf6ea4e0a64a38a24ec884/raw/afd05cb0c796d18f3f5a6537053ded308ba94bf7/car-prices.csv'\n",
        "dados = pd.read_csv(uri)\n",
        "\n",
        "renomeacao = {\n",
        "    'mileage_per_year': 'milhas_por_ano',\n",
        "    'model_year': 'ano_do_modelo',\n",
        "    'price': 'preco',\n",
        "    'sold': 'vendido',\n",
        "}\n",
        "\n",
        "dados = dados.rename(columns=renomeacao)\n",
        "dados['idade_modelo'] = dados.ano_do_modelo.map(lambda x: datetime.today().year - x)\n",
        "dados['km_por_ano'] = dados.milhas_por_ano * 1.609344\n",
        "dados.vendido = dados.vendido.map(lambda x: 1 if x == 'yes' else 0)\n",
        "\n",
        "dados = dados.drop(columns=['Unnamed: 0', 'milhas_por_ano', 'ano_do_modelo'], axis=1)"
      ],
      "metadata": {
        "id": "NCat2F6PydCk"
      },
      "execution_count": null,
      "outputs": []
    },
    {
      "cell_type": "code",
      "source": [
        "x = dados [['preco', 'km_por_ano', 'idade_modelo']]\n",
        "y = dados ['vendido']\n",
        "\n",
        "np.random.seed(SEED)\n",
        "\n",
        "treino_x, teste_x, treino_y, teste_y = train_test_split(\n",
        "    x,\n",
        "    y,\n",
        "    test_size=.25,\n",
        "    stratify=y,\n",
        ")\n",
        "\n",
        "print(f\"Treinando com {len(treino_x)} elementos e testando com {len(teste_x)} elementos\")\n",
        "\n",
        "modelo = DecisionTreeClassifier(max_depth=4)\n",
        "\n",
        "modelo.fit(treino_x, treino_y)"
      ],
      "metadata": {
        "colab": {
          "base_uri": "https://localhost:8080/",
          "height": 92
        },
        "id": "SjrpGpXDymis",
        "outputId": "9e14c278-f782-49fc-f7c2-ca2df8ff1713"
      },
      "execution_count": null,
      "outputs": [
        {
          "output_type": "stream",
          "name": "stdout",
          "text": [
            "Treinando com 7500 elementos e testando com 2500 elementos\n"
          ]
        },
        {
          "output_type": "execute_result",
          "data": {
            "text/plain": [
              "DecisionTreeClassifier(max_depth=4)"
            ],
            "text/html": [
              "<style>#sk-container-id-8 {color: black;background-color: white;}#sk-container-id-8 pre{padding: 0;}#sk-container-id-8 div.sk-toggleable {background-color: white;}#sk-container-id-8 label.sk-toggleable__label {cursor: pointer;display: block;width: 100%;margin-bottom: 0;padding: 0.3em;box-sizing: border-box;text-align: center;}#sk-container-id-8 label.sk-toggleable__label-arrow:before {content: \"▸\";float: left;margin-right: 0.25em;color: #696969;}#sk-container-id-8 label.sk-toggleable__label-arrow:hover:before {color: black;}#sk-container-id-8 div.sk-estimator:hover label.sk-toggleable__label-arrow:before {color: black;}#sk-container-id-8 div.sk-toggleable__content {max-height: 0;max-width: 0;overflow: hidden;text-align: left;background-color: #f0f8ff;}#sk-container-id-8 div.sk-toggleable__content pre {margin: 0.2em;color: black;border-radius: 0.25em;background-color: #f0f8ff;}#sk-container-id-8 input.sk-toggleable__control:checked~div.sk-toggleable__content {max-height: 200px;max-width: 100%;overflow: auto;}#sk-container-id-8 input.sk-toggleable__control:checked~label.sk-toggleable__label-arrow:before {content: \"▾\";}#sk-container-id-8 div.sk-estimator input.sk-toggleable__control:checked~label.sk-toggleable__label {background-color: #d4ebff;}#sk-container-id-8 div.sk-label input.sk-toggleable__control:checked~label.sk-toggleable__label {background-color: #d4ebff;}#sk-container-id-8 input.sk-hidden--visually {border: 0;clip: rect(1px 1px 1px 1px);clip: rect(1px, 1px, 1px, 1px);height: 1px;margin: -1px;overflow: hidden;padding: 0;position: absolute;width: 1px;}#sk-container-id-8 div.sk-estimator {font-family: monospace;background-color: #f0f8ff;border: 1px dotted black;border-radius: 0.25em;box-sizing: border-box;margin-bottom: 0.5em;}#sk-container-id-8 div.sk-estimator:hover {background-color: #d4ebff;}#sk-container-id-8 div.sk-parallel-item::after {content: \"\";width: 100%;border-bottom: 1px solid gray;flex-grow: 1;}#sk-container-id-8 div.sk-label:hover label.sk-toggleable__label {background-color: #d4ebff;}#sk-container-id-8 div.sk-serial::before {content: \"\";position: absolute;border-left: 1px solid gray;box-sizing: border-box;top: 0;bottom: 0;left: 50%;z-index: 0;}#sk-container-id-8 div.sk-serial {display: flex;flex-direction: column;align-items: center;background-color: white;padding-right: 0.2em;padding-left: 0.2em;position: relative;}#sk-container-id-8 div.sk-item {position: relative;z-index: 1;}#sk-container-id-8 div.sk-parallel {display: flex;align-items: stretch;justify-content: center;background-color: white;position: relative;}#sk-container-id-8 div.sk-item::before, #sk-container-id-8 div.sk-parallel-item::before {content: \"\";position: absolute;border-left: 1px solid gray;box-sizing: border-box;top: 0;bottom: 0;left: 50%;z-index: -1;}#sk-container-id-8 div.sk-parallel-item {display: flex;flex-direction: column;z-index: 1;position: relative;background-color: white;}#sk-container-id-8 div.sk-parallel-item:first-child::after {align-self: flex-end;width: 50%;}#sk-container-id-8 div.sk-parallel-item:last-child::after {align-self: flex-start;width: 50%;}#sk-container-id-8 div.sk-parallel-item:only-child::after {width: 0;}#sk-container-id-8 div.sk-dashed-wrapped {border: 1px dashed gray;margin: 0 0.4em 0.5em 0.4em;box-sizing: border-box;padding-bottom: 0.4em;background-color: white;}#sk-container-id-8 div.sk-label label {font-family: monospace;font-weight: bold;display: inline-block;line-height: 1.2em;}#sk-container-id-8 div.sk-label-container {text-align: center;}#sk-container-id-8 div.sk-container {/* jupyter's `normalize.less` sets `[hidden] { display: none; }` but bootstrap.min.css set `[hidden] { display: none !important; }` so we also need the `!important` here to be able to override the default hidden behavior on the sphinx rendered scikit-learn.org. See: https://github.com/scikit-learn/scikit-learn/issues/21755 */display: inline-block !important;position: relative;}#sk-container-id-8 div.sk-text-repr-fallback {display: none;}</style><div id=\"sk-container-id-8\" class=\"sk-top-container\"><div class=\"sk-text-repr-fallback\"><pre>DecisionTreeClassifier(max_depth=4)</pre><b>In a Jupyter environment, please rerun this cell to show the HTML representation or trust the notebook. <br />On GitHub, the HTML representation is unable to render, please try loading this page with nbviewer.org.</b></div><div class=\"sk-container\" hidden><div class=\"sk-item\"><div class=\"sk-estimator sk-toggleable\"><input class=\"sk-toggleable__control sk-hidden--visually\" id=\"sk-estimator-id-8\" type=\"checkbox\" checked><label for=\"sk-estimator-id-8\" class=\"sk-toggleable__label sk-toggleable__label-arrow\">DecisionTreeClassifier</label><div class=\"sk-toggleable__content\"><pre>DecisionTreeClassifier(max_depth=4)</pre></div></div></div></div></div>"
            ]
          },
          "metadata": {},
          "execution_count": 46
        }
      ]
    },
    {
      "cell_type": "code",
      "source": [
        "# from imblearn.over_sampling import SMOTE\n",
        "# smt = SMOTE(random_state=123)\n",
        "# treino_x, treino_y = smt.fit_resample(treino_x, treino_y)\n",
        "\n",
        "# modelo.fit(treino_x, treino_y)"
      ],
      "metadata": {
        "id": "xzzdYF6lGAmv"
      },
      "execution_count": null,
      "outputs": []
    },
    {
      "cell_type": "code",
      "source": [
        "previsoes = modelo.predict(teste_x)\n",
        "acuracia = accuracy_score(teste_y, previsoes)\n",
        "\n",
        "print(f\"A acuracia foi de {'{:.2f}'.format(acuracia * 100)}%\")"
      ],
      "metadata": {
        "colab": {
          "base_uri": "https://localhost:8080/"
        },
        "id": "6YO5sy4m1OOp",
        "outputId": "623e6687-3f82-4d74-c704-247df15b47ed"
      },
      "execution_count": null,
      "outputs": [
        {
          "output_type": "stream",
          "name": "stdout",
          "text": [
            "A acuracia foi de 78.32%\n"
          ]
        }
      ]
    },
    {
      "cell_type": "code",
      "source": [
        "dummy = DummyClassifier(strategy=\"stratified\")\n",
        "\n",
        "dummy.fit(treino_x, treino_y)\n",
        "dummy_acuracy = dummy.score(teste_x, teste_y)\n",
        "\n",
        "print(f\"A acuracia Dummy foi de {'{:.2f}'.format(dummy_acuracy * 100)}%\")"
      ],
      "metadata": {
        "colab": {
          "base_uri": "https://localhost:8080/"
        },
        "id": "tRVKH8OT27lU",
        "outputId": "2d0c6940-0496-478a-ad2d-bac0b4603e8d"
      },
      "execution_count": null,
      "outputs": [
        {
          "output_type": "stream",
          "name": "stdout",
          "text": [
            "A acuracia Dummy foi de 52.20%\n"
          ]
        }
      ]
    },
    {
      "cell_type": "code",
      "source": [
        "# dot_data = export_graphviz(\n",
        "#   modelo,\n",
        "#   feature_names=x.columns,\n",
        "#   filled=True,\n",
        "#   rounded=True,\n",
        "#   class_names=[\"não\", \"sim\"]\n",
        "# )\n",
        "# chart = graphviz.Source(dot_data)\n",
        "\n",
        "# chart"
      ],
      "metadata": {
        "id": "MyuoCdgLakIb"
      },
      "execution_count": null,
      "outputs": []
    }
  ]
}